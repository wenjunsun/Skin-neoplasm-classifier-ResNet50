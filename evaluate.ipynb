{
 "cells": [
  {
   "cell_type": "code",
   "execution_count": 3,
   "id": "6773f001",
   "metadata": {},
   "outputs": [],
   "source": [
    "import torch\n",
    "import torch.nn as nn\n",
    "import torchvision\n",
    "from torchvision import transforms, datasets\n",
    "from sklearn.metrics import confusion_matrix, ConfusionMatrixDisplay, classification_report, roc_auc_score\n",
    "\n",
    "ROOT_DIR = '/gscratch/ubicomp/hughsun/HAM10000/ResNet'"
   ]
  },
  {
   "cell_type": "code",
   "execution_count": 2,
   "id": "f2c8b495",
   "metadata": {
    "scrolled": true
   },
   "outputs": [
    {
     "data": {
      "text/plain": [
       "<All keys matched successfully>"
      ]
     },
     "execution_count": 2,
     "metadata": {},
     "output_type": "execute_result"
    }
   ],
   "source": [
    "device = 'cuda'\n",
    "model = torchvision.models.resnet50(pretrained=True).to(device)\n",
    "model.fc = nn.Linear(2048, 7).to(device)\n",
    "model.load_state_dict(torch.load(f'{ROOT_DIR}/skin_models/skinmodel50.pt'))"
   ]
  },
  {
   "cell_type": "markdown",
   "id": "5e95b2ec",
   "metadata": {},
   "source": [
    "# evaluate model as a whole."
   ]
  },
  {
   "cell_type": "code",
   "execution_count": 4,
   "id": "ddcf1561",
   "metadata": {},
   "outputs": [],
   "source": [
    "valdir = f'{ROOT_DIR}/skin/validation/'"
   ]
  },
  {
   "cell_type": "code",
   "execution_count": 5,
   "id": "03dc64b9",
   "metadata": {},
   "outputs": [],
   "source": [
    "val_transforms = transforms.Compose([\n",
    "    transforms.Resize((224, 280)),\n",
    "    torchvision.transforms.CenterCrop((224, 224)),\n",
    "    transforms.ToTensor(),\n",
    "    transforms.Normalize(mean=[0.485, 0.456, 0.406], std=[0.229, 0.224, 0.225])\n",
    "    ])\n",
    "\n",
    "val_dataset = datasets.ImageFolder(\n",
    "    valdir, transform=val_transforms)\n",
    "\n",
    "val_loader = torch.utils.data.DataLoader(\n",
    "    val_dataset, batch_size=64, shuffle=False,\n",
    "    pin_memory=False, drop_last=False)"
   ]
  },
  {
   "cell_type": "code",
   "execution_count": 6,
   "id": "872e7ce0",
   "metadata": {},
   "outputs": [],
   "source": [
    "num_classes = 7\n",
    "\n",
    "predlist = torch.zeros(0,dtype=torch.long, device='cpu')\n",
    "lbllist = torch.zeros(0,dtype=torch.long, device='cpu')\n",
    "predlistauc = torch.zeros(0,dtype=torch.long, device='cpu')\n",
    "\n",
    "model.eval()\n",
    "\n",
    "with torch.no_grad():\n",
    "    for i, (inputs, classes) in enumerate(val_loader):        \n",
    "        inputs = inputs.to(device)\n",
    "        classes = classes.to(device)\n",
    "        outputs = model(inputs)\n",
    "        _, preds = torch.max(outputs, 1)\n",
    "\n",
    "        # Append batch prediction results\n",
    "        predlist=torch.cat([predlist,preds.view(-1).cpu()])\n",
    "        lbllist=torch.cat([lbllist,classes.view(-1).cpu()])\n",
    "        predlistauc = torch.cat([predlistauc,nn.functional.softmax(outputs, dim=1).cpu()])\n",
    "predlist = predlist.numpy()\n",
    "lbllist = lbllist.numpy()\n",
    "predlistauc = predlistauc.numpy()"
   ]
  },
  {
   "cell_type": "code",
   "execution_count": 7,
   "id": "a3671270",
   "metadata": {},
   "outputs": [],
   "source": [
    "conf_mat=confusion_matrix(lbllist, predlist)"
   ]
  },
  {
   "cell_type": "code",
   "execution_count": 8,
   "id": "af780d45",
   "metadata": {},
   "outputs": [],
   "source": [
    "target_names = ['MEL','NV','BCC','AKIEC','BKL','DF','VASC',]"
   ]
  },
  {
   "cell_type": "code",
   "execution_count": 10,
   "id": "116a86b6",
   "metadata": {},
   "outputs": [
    {
     "data": {
      "text/plain": [
       "<sklearn.metrics._plot.confusion_matrix.ConfusionMatrixDisplay at 0x154f408426d0>"
      ]
     },
     "execution_count": 10,
     "metadata": {},
     "output_type": "execute_result"
    },
    {
     "data": {
      "image/png": "[encoded data removed]",
      "text/plain": [
       "<Figure size 432x288 with 2 Axes>"
      ]
     },
     "metadata": {
      "needs_background": "light"
     },
     "output_type": "display_data"
    }
   ],
   "source": [
    "ConfusionMatrixDisplay(conf_mat, display_labels=target_names).plot(values_format=\"d\")"
   ]
  },
  {
   "cell_type": "code",
   "execution_count": 11,
   "id": "c6a0c09b",
   "metadata": {},
   "outputs": [
    {
     "name": "stdout",
     "output_type": "stream",
     "text": [
      "              precision    recall  f1-score   support\n",
      "\n",
      "         MEL       0.98      0.97      0.98       123\n",
      "          NV       0.99      1.00      0.99      1081\n",
      "         BCC       0.98      0.98      0.98        66\n",
      "       AKIEC       0.98      0.96      0.97        46\n",
      "         BKL       0.97      0.97      0.97       146\n",
      "          DF       1.00      1.00      1.00        15\n",
      "        VASC       1.00      1.00      1.00        20\n",
      "\n",
      "    accuracy                           0.99      1497\n",
      "   macro avg       0.99      0.98      0.98      1497\n",
      "weighted avg       0.99      0.99      0.99      1497\n",
      "\n"
     ]
    }
   ],
   "source": [
    "print(classification_report(lbllist, predlist, target_names=target_names))"
   ]
  },
  {
   "cell_type": "code",
   "execution_count": 12,
   "id": "2831b58d",
   "metadata": {},
   "outputs": [
    {
     "name": "stdout",
     "output_type": "stream",
     "text": [
      "AUC of class MEL = 0.9993313688595401\n",
      "AUC of class NV = 0.9995063331672953\n",
      "AUC of class BCC = 0.9999576477563898\n",
      "AUC of class AKIEC = 0.9999101069727024\n",
      "AUC of class BKL = 0.999797207547935\n",
      "AUC of class DF = 1.0\n",
      "AUC of class VASC = 1.0\n"
     ]
    },
    {
     "name": "stderr",
     "output_type": "stream",
     "text": [
      "<ipython-input-12-162f7b232c8a>:1: UserWarning: Creating a tensor from a list of numpy.ndarrays is extremely slow. Please consider converting the list to a single numpy.ndarray with numpy.array() before converting to a tensor. (Triggered internally at  /opt/conda/conda-bld/pytorch_1639180544224/work/torch/csrc/utils/tensor_new.cpp:201.)\n",
      "  lbllist_one_hot = nn.functional.one_hot(torch.tensor([lbllist]), num_classes=num_classes)\n"
     ]
    }
   ],
   "source": [
    "lbllist_one_hot = nn.functional.one_hot(torch.tensor([lbllist]), num_classes=num_classes)\n",
    "every_auc = roc_auc_score(lbllist_one_hot.view([predlistauc.shape[0], predlistauc.shape[1]]), \n",
    "                                          predlistauc, multi_class='ovr', average=None)\n",
    "for i, every in enumerate(target_names):\n",
    "    print(f'AUC of class {every} = {every_auc[i]}')"
   ]
  },
  {
   "cell_type": "code",
   "execution_count": 13,
   "id": "e693720b",
   "metadata": {},
   "outputs": [
    {
     "name": "stdout",
     "output_type": "stream",
     "text": [
      "              precision    recall  f1-score   support\n",
      "\n",
      "         MEL       0.98      0.95      0.96       615\n",
      "          NV       0.99      1.00      0.99      5405\n",
      "         BCC       0.96      1.00      0.98       330\n",
      "       AKIEC       0.98      0.96      0.97       230\n",
      "         BKL       0.99      0.97      0.98       730\n",
      "          DF       0.95      1.00      0.97        75\n",
      "        VASC       1.00      1.00      1.00       100\n",
      "\n",
      "    accuracy                           0.99      7485\n",
      "   macro avg       0.98      0.98      0.98      7485\n",
      "weighted avg       0.99      0.99      0.99      7485\n",
      "\n",
      "AUC of class MEL = 0.9993659246636134\n",
      "AUC of class NV = 0.999599818544083\n",
      "AUC of class BCC = 0.9999385892467654\n",
      "AUC of class AKIEC = 0.9998603661642645\n",
      "AUC of class BKL = 0.9998541922269653\n",
      "AUC of class DF = 0.9999784075573549\n",
      "AUC of class VASC = 1.0\n"
     ]
    },
    {
     "data": {
      "image/png": "[encoded data removed]",
      "text/plain": [
       "<Figure size 432x288 with 2 Axes>"
      ]
     },
     "metadata": {
      "needs_background": "light"
     },
     "output_type": "display_data"
    }
   ],
   "source": [
    "val_transforms = transforms.Compose([\n",
    "    transforms.Resize((224, 280)),\n",
    "    torchvision.transforms.CenterCrop((224, 224)),\n",
    "    transforms.RandomHorizontalFlip(p=0.5),\n",
    "    transforms.RandomApply(transforms=[transforms.RandomRotation(degrees=(-180, 180))], p=0.99),\n",
    "    transforms.ToTensor(),\n",
    "    transforms.Normalize(mean=[0.485, 0.456, 0.406], std=[0.229, 0.224, 0.225])\n",
    "    ])\n",
    "\n",
    "\n",
    "val_dataset = datasets.ImageFolder(\n",
    "    valdir, transform=val_transforms)\n",
    "\n",
    "val_loader = torch.utils.data.DataLoader(\n",
    "    val_dataset, batch_size=64, shuffle=True,\n",
    "    pin_memory=False, drop_last=False)\n",
    "\n",
    "num_classes = 7\n",
    "\n",
    "predlist=torch.zeros(0,dtype=torch.long, device='cpu')\n",
    "lbllist=torch.zeros(0,dtype=torch.long, device='cpu')\n",
    "predlistauc = torch.zeros(0,dtype=torch.long, device='cpu')\n",
    "for n in range(5):\n",
    "    with torch.no_grad():\n",
    "        for i, (inputs, classes) in enumerate(val_loader):\n",
    "            model.eval()\n",
    "            inputs = inputs.to(device)\n",
    "            classes = classes.to(device)\n",
    "            outputs = model(inputs)\n",
    "            _, preds = torch.max(outputs, 1)\n",
    "\n",
    "            # Append batch prediction results\n",
    "            predlist=torch.cat([predlist,preds.view(-1).cpu()])\n",
    "            lbllist=torch.cat([lbllist,classes.view(-1).cpu()])\n",
    "            predlistauc = torch.cat([predlistauc,nn.functional.softmax(outputs, dim=1).cpu()])\n",
    "predlist = predlist.numpy()\n",
    "lbllist = lbllist.numpy()\n",
    "predlistauc = predlistauc.numpy() \n",
    "\n",
    "# Confusion matrix, classification report and AUC\n",
    "conf_mat=confusion_matrix(lbllist, predlist)\n",
    "target_names = ['MEL','NV','BCC','AKIEC','BKL','DF','VASC',]\n",
    "ConfusionMatrixDisplay(conf_mat, display_labels=target_names).plot(values_format=\"d\")\n",
    "print(classification_report(lbllist, predlist, target_names=target_names))\n",
    "lbllist_one_hot = nn.functional.one_hot(torch.tensor([lbllist]), num_classes=num_classes)\n",
    "every_auc = roc_auc_score(lbllist_one_hot.view([predlistauc.shape[0], predlistauc.shape[1]]), \n",
    "                                          predlistauc, multi_class='ovr', average=None)\n",
    "for i, every in enumerate(target_names):\n",
    "    print(f'AUC of class {every} = {every_auc[i]}')"
   ]
  },
  {
   "cell_type": "markdown",
   "id": "fd65a895",
   "metadata": {},
   "source": [
    "# Evaluate model performance for female and male separately."
   ]
  },
  {
   "cell_type": "code",
   "execution_count": 19,
   "id": "588e56d5",
   "metadata": {},
   "outputs": [],
   "source": [
    "import os\n",
    "from shutil import copyfile\n",
    "import pandas as pd\n",
    "import random\n",
    "\n",
    "ROOT_DIR = '/gscratch/ubicomp/hughsun/HAM10000/ResNet'\n",
    "split_size = 0.8"
   ]
  },
  {
   "cell_type": "code",
   "execution_count": 4,
   "id": "d14a680e",
   "metadata": {},
   "outputs": [],
   "source": [
    "metadata = pd.read_csv(f'{ROOT_DIR}/HAM10000_metadata.csv')"
   ]
  },
  {
   "cell_type": "code",
   "execution_count": 9,
   "id": "5a293ec3",
   "metadata": {},
   "outputs": [
    {
     "data": {
      "text/plain": [
       "<AxesSubplot:>"
      ]
     },
     "execution_count": 9,
     "metadata": {},
     "output_type": "execute_result"
    },
    {
     "data": {
      "image/png": "[encoded data removed]",
      "text/plain": [
       "<Figure size 432x288 with 1 Axes>"
      ]
     },
     "metadata": {
      "needs_background": "light"
     },
     "output_type": "display_data"
    }
   ],
   "source": [
    "metadata['sex'].hist()"
   ]
  },
  {
   "cell_type": "code",
   "execution_count": 21,
   "id": "362adee5",
   "metadata": {},
   "outputs": [
    {
     "data": {
      "text/html": [
       "<div>\n",
       "<style scoped>\n",
       "    .dataframe tbody tr th:only-of-type {\n",
       "        vertical-align: middle;\n",
       "    }\n",
       "\n",
       "    .dataframe tbody tr th {\n",
       "        vertical-align: top;\n",
       "    }\n",
       "\n",
       "    .dataframe thead th {\n",
       "        text-align: right;\n",
       "    }\n",
       "</style>\n",
       "<table border=\"1\" class=\"dataframe\">\n",
       "  <thead>\n",
       "    <tr style=\"text-align: right;\">\n",
       "      <th></th>\n",
       "      <th>lesion_id</th>\n",
       "      <th>image_id</th>\n",
       "      <th>dx</th>\n",
       "      <th>dx_type</th>\n",
       "      <th>age</th>\n",
       "      <th>sex</th>\n",
       "      <th>localization</th>\n",
       "    </tr>\n",
       "  </thead>\n",
       "  <tbody>\n",
       "    <tr>\n",
       "      <th>0</th>\n",
       "      <td>HAM_0000118</td>\n",
       "      <td>ISIC_0027419</td>\n",
       "      <td>bkl</td>\n",
       "      <td>histo</td>\n",
       "      <td>80.0</td>\n",
       "      <td>male</td>\n",
       "      <td>scalp</td>\n",
       "    </tr>\n",
       "    <tr>\n",
       "      <th>1</th>\n",
       "      <td>HAM_0000118</td>\n",
       "      <td>ISIC_0025030</td>\n",
       "      <td>bkl</td>\n",
       "      <td>histo</td>\n",
       "      <td>80.0</td>\n",
       "      <td>male</td>\n",
       "      <td>scalp</td>\n",
       "    </tr>\n",
       "    <tr>\n",
       "      <th>2</th>\n",
       "      <td>HAM_0002730</td>\n",
       "      <td>ISIC_0026769</td>\n",
       "      <td>bkl</td>\n",
       "      <td>histo</td>\n",
       "      <td>80.0</td>\n",
       "      <td>male</td>\n",
       "      <td>scalp</td>\n",
       "    </tr>\n",
       "    <tr>\n",
       "      <th>3</th>\n",
       "      <td>HAM_0002730</td>\n",
       "      <td>ISIC_0025661</td>\n",
       "      <td>bkl</td>\n",
       "      <td>histo</td>\n",
       "      <td>80.0</td>\n",
       "      <td>male</td>\n",
       "      <td>scalp</td>\n",
       "    </tr>\n",
       "    <tr>\n",
       "      <th>4</th>\n",
       "      <td>HAM_0001466</td>\n",
       "      <td>ISIC_0031633</td>\n",
       "      <td>bkl</td>\n",
       "      <td>histo</td>\n",
       "      <td>75.0</td>\n",
       "      <td>male</td>\n",
       "      <td>ear</td>\n",
       "    </tr>\n",
       "    <tr>\n",
       "      <th>...</th>\n",
       "      <td>...</td>\n",
       "      <td>...</td>\n",
       "      <td>...</td>\n",
       "      <td>...</td>\n",
       "      <td>...</td>\n",
       "      <td>...</td>\n",
       "      <td>...</td>\n",
       "    </tr>\n",
       "    <tr>\n",
       "      <th>10010</th>\n",
       "      <td>HAM_0002867</td>\n",
       "      <td>ISIC_0033084</td>\n",
       "      <td>akiec</td>\n",
       "      <td>histo</td>\n",
       "      <td>40.0</td>\n",
       "      <td>male</td>\n",
       "      <td>abdomen</td>\n",
       "    </tr>\n",
       "    <tr>\n",
       "      <th>10011</th>\n",
       "      <td>HAM_0002867</td>\n",
       "      <td>ISIC_0033550</td>\n",
       "      <td>akiec</td>\n",
       "      <td>histo</td>\n",
       "      <td>40.0</td>\n",
       "      <td>male</td>\n",
       "      <td>abdomen</td>\n",
       "    </tr>\n",
       "    <tr>\n",
       "      <th>10012</th>\n",
       "      <td>HAM_0002867</td>\n",
       "      <td>ISIC_0033536</td>\n",
       "      <td>akiec</td>\n",
       "      <td>histo</td>\n",
       "      <td>40.0</td>\n",
       "      <td>male</td>\n",
       "      <td>abdomen</td>\n",
       "    </tr>\n",
       "    <tr>\n",
       "      <th>10013</th>\n",
       "      <td>HAM_0000239</td>\n",
       "      <td>ISIC_0032854</td>\n",
       "      <td>akiec</td>\n",
       "      <td>histo</td>\n",
       "      <td>80.0</td>\n",
       "      <td>male</td>\n",
       "      <td>face</td>\n",
       "    </tr>\n",
       "    <tr>\n",
       "      <th>10014</th>\n",
       "      <td>HAM_0003521</td>\n",
       "      <td>ISIC_0032258</td>\n",
       "      <td>mel</td>\n",
       "      <td>histo</td>\n",
       "      <td>70.0</td>\n",
       "      <td>female</td>\n",
       "      <td>back</td>\n",
       "    </tr>\n",
       "  </tbody>\n",
       "</table>\n",
       "<p>10015 rows × 7 columns</p>\n",
       "</div>"
      ],
      "text/plain": [
       "         lesion_id      image_id     dx dx_type   age     sex localization\n",
       "0      HAM_0000118  ISIC_0027419    bkl   histo  80.0    male        scalp\n",
       "1      HAM_0000118  ISIC_0025030    bkl   histo  80.0    male        scalp\n",
       "2      HAM_0002730  ISIC_0026769    bkl   histo  80.0    male        scalp\n",
       "3      HAM_0002730  ISIC_0025661    bkl   histo  80.0    male        scalp\n",
       "4      HAM_0001466  ISIC_0031633    bkl   histo  75.0    male          ear\n",
       "...            ...           ...    ...     ...   ...     ...          ...\n",
       "10010  HAM_0002867  ISIC_0033084  akiec   histo  40.0    male      abdomen\n",
       "10011  HAM_0002867  ISIC_0033550  akiec   histo  40.0    male      abdomen\n",
       "10012  HAM_0002867  ISIC_0033536  akiec   histo  40.0    male      abdomen\n",
       "10013  HAM_0000239  ISIC_0032854  akiec   histo  80.0    male         face\n",
       "10014  HAM_0003521  ISIC_0032258    mel   histo  70.0  female         back\n",
       "\n",
       "[10015 rows x 7 columns]"
      ]
     },
     "execution_count": 21,
     "metadata": {},
     "output_type": "execute_result"
    }
   ],
   "source": [
    "metadata"
   ]
  },
  {
   "cell_type": "markdown",
   "id": "c6dfc09d",
   "metadata": {},
   "source": [
    "## First need to create two separate validation image folders for female and male."
   ]
  },
  {
   "cell_type": "code",
   "execution_count": 48,
   "id": "e69f1bff",
   "metadata": {},
   "outputs": [],
   "source": [
    "def createMaleFemaleFolders():\n",
    "    '''\n",
    "    create the necessary image folders for female and male validation dataset.\n",
    "    '''\n",
    "    os.mkdir(f'{ROOT_DIR}/skin/validation_male_female/')\n",
    "    \n",
    "    os.mkdir(f'{ROOT_DIR}/skin/validation_male_female/male/')\n",
    "    os.mkdir(f'{ROOT_DIR}/skin/validation_male_female/female/')\n",
    "    \n",
    "    os.mkdir(f'{ROOT_DIR}/skin/validation_male_female/male/0.MEL/')\n",
    "    os.mkdir(f'{ROOT_DIR}/skin/validation_male_female/male/1.NV/')\n",
    "    os.mkdir(f'{ROOT_DIR}/skin/validation_male_female/male/2.BCC/')\n",
    "    os.mkdir(f'{ROOT_DIR}/skin/validation_male_female/male/3.AKIEC/')\n",
    "    os.mkdir(f'{ROOT_DIR}/skin/validation_male_female/male/4.BKL/')\n",
    "    os.mkdir(f'{ROOT_DIR}/skin/validation_male_female/male/5.DF/')\n",
    "    os.mkdir(f'{ROOT_DIR}/skin/validation_male_female/male/6.VASC/')\n",
    "    \n",
    "    os.mkdir(f'{ROOT_DIR}/skin/validation_male_female/female/0.MEL/')\n",
    "    os.mkdir(f'{ROOT_DIR}/skin/validation_male_female/female/1.NV/')\n",
    "    os.mkdir(f'{ROOT_DIR}/skin/validation_male_female/female/2.BCC/')\n",
    "    os.mkdir(f'{ROOT_DIR}/skin/validation_male_female/female/3.AKIEC/')\n",
    "    os.mkdir(f'{ROOT_DIR}/skin/validation_male_female/female/4.BKL/')\n",
    "    os.mkdir(f'{ROOT_DIR}/skin/validation_male_female/female/5.DF/')\n",
    "    os.mkdir(f'{ROOT_DIR}/skin/validation_male_female/female/6.VASC/')"
   ]
  },
  {
   "cell_type": "code",
   "execution_count": 23,
   "id": "ea997872",
   "metadata": {},
   "outputs": [
    {
     "data": {
      "text/plain": [
       "['ISIC_0032872.jpg',\n",
       " 'ISIC_0028026.jpg',\n",
       " 'ISIC_0026296.jpg',\n",
       " 'ISIC_0033416.jpg',\n",
       " 'ISIC_0033362.jpg',\n",
       " 'ISIC_0031025.jpg',\n",
       " 'ISIC_0032624.jpg',\n",
       " 'ISIC_0028227.jpg',\n",
       " 'ISIC_0031529.jpg',\n",
       " 'ISIC_0033034.jpg',\n",
       " 'ISIC_0030110.jpg',\n",
       " 'ISIC_0033946.jpg',\n",
       " 'ISIC_0029013.jpg',\n",
       " 'ISIC_0026604.jpg',\n",
       " 'ISIC_0026870.jpg',\n",
       " 'ISIC_0030150.jpg',\n",
       " 'ISIC_0025832.jpg',\n",
       " 'ISIC_0026877.jpg',\n",
       " 'ISIC_0031778.jpg',\n",
       " 'ISIC_0031670.jpg',\n",
       " 'ISIC_0028103.jpg',\n",
       " 'ISIC_0027387.jpg',\n",
       " 'ISIC_0024962.jpg',\n",
       " 'ISIC_0033901.jpg',\n",
       " 'ISIC_0025248.jpg',\n",
       " 'ISIC_0032532.jpg',\n",
       " 'ISIC_0034101.jpg',\n",
       " 'ISIC_0033074.jpg',\n",
       " 'ISIC_0028075.jpg',\n",
       " 'ISIC_0031718.jpg',\n",
       " 'ISIC_0033241.jpg',\n",
       " 'ISIC_0033496.jpg',\n",
       " 'ISIC_0028415.jpg',\n",
       " 'ISIC_0024644.jpg',\n",
       " 'ISIC_0032812.jpg',\n",
       " 'ISIC_0028481.jpg',\n",
       " 'ISIC_0024701.jpg',\n",
       " 'ISIC_0032985.jpg',\n",
       " 'ISIC_0028915.jpg',\n",
       " 'ISIC_0033804.jpg',\n",
       " 'ISIC_0026586.jpg',\n",
       " 'ISIC_0033947.jpg',\n",
       " 'ISIC_0033286.jpg',\n",
       " 'ISIC_0033209.jpg',\n",
       " 'ISIC_0026531.jpg',\n",
       " 'ISIC_0028489.jpg',\n",
       " 'ISIC_0031745.jpg',\n",
       " 'ISIC_0025317.jpg',\n",
       " 'ISIC_0027260.jpg',\n",
       " 'ISIC_0034132.jpg',\n",
       " 'ISIC_0033498.jpg',\n",
       " 'ISIC_0026868.jpg',\n",
       " 'ISIC_0026167.jpg',\n",
       " 'ISIC_0027190.jpg',\n",
       " 'ISIC_0024898.jpg',\n",
       " 'ISIC_0026930.jpg',\n",
       " 'ISIC_0027721.jpg',\n",
       " 'ISIC_0032840.jpg',\n",
       " 'ISIC_0030060.jpg',\n",
       " 'ISIC_0030445.jpg',\n",
       " 'ISIC_0032687.jpg',\n",
       " 'ISIC_0027487.jpg',\n",
       " 'ISIC_0029562.jpg',\n",
       " 'ISIC_0025489.jpg',\n",
       " 'ISIC_0027663.jpg',\n",
       " 'ISIC_0030281.jpg',\n",
       " 'ISIC_0027420.jpg',\n",
       " 'ISIC_0027253.jpg',\n",
       " 'ISIC_0033037.jpg',\n",
       " 'ISIC_0032862.jpg',\n",
       " 'ISIC_0033630.jpg',\n",
       " 'ISIC_0033336.jpg',\n",
       " 'ISIC_0029660.jpg',\n",
       " 'ISIC_0025081.jpg',\n",
       " 'ISIC_0033120.jpg',\n",
       " 'ISIC_0025520.jpg',\n",
       " 'ISIC_0026115.jpg',\n",
       " 'ISIC_0029397.jpg',\n",
       " 'ISIC_0027033.jpg',\n",
       " 'ISIC_0026369.jpg',\n",
       " 'ISIC_0026086.jpg',\n",
       " 'ISIC_0033559.jpg',\n",
       " 'ISIC_0032684.jpg',\n",
       " 'ISIC_0033300.jpg',\n",
       " 'ISIC_0027100.jpg',\n",
       " 'ISIC_0029632.jpg',\n",
       " 'ISIC_0034061.jpg',\n",
       " 'ISIC_0027089.jpg',\n",
       " 'ISIC_0028228.jpg',\n",
       " 'ISIC_0029502.jpg',\n",
       " 'ISIC_0026475.jpg',\n",
       " 'ISIC_0025085.jpg',\n",
       " 'ISIC_0033432.jpg',\n",
       " 'ISIC_0033911.jpg',\n",
       " 'ISIC_0032718.jpg',\n",
       " 'ISIC_0032079.jpg',\n",
       " 'ISIC_0028219.jpg',\n",
       " 'ISIC_0028520.jpg',\n",
       " 'ISIC_0024702.jpg',\n",
       " 'ISIC_0025155.jpg',\n",
       " 'ISIC_0032807.jpg',\n",
       " 'ISIC_0029094.jpg',\n",
       " 'ISIC_0029163.jpg',\n",
       " 'ISIC_0027043.jpg',\n",
       " 'ISIC_0026963.jpg',\n",
       " 'ISIC_0034262.jpg',\n",
       " 'ISIC_0028087.jpg',\n",
       " 'ISIC_0027793.jpg',\n",
       " 'ISIC_0026811.jpg',\n",
       " 'ISIC_0033607.jpg',\n",
       " 'ISIC_0031118.jpg',\n",
       " 'ISIC_0032797.jpg',\n",
       " 'ISIC_0029216.jpg',\n",
       " 'ISIC_0033730.jpg',\n",
       " 'ISIC_0027149.jpg',\n",
       " 'ISIC_0029995.jpg',\n",
       " 'ISIC_0028508.jpg',\n",
       " 'ISIC_0030653.jpg',\n",
       " 'ISIC_0025543.jpg',\n",
       " 'ISIC_0030417.jpg',\n",
       " 'ISIC_0027277.jpg',\n",
       " 'ISIC_0028225.jpg',\n",
       " 'ISIC_0032976.jpg']"
      ]
     },
     "execution_count": 23,
     "metadata": {},
     "output_type": "execute_result"
    }
   ],
   "source": [
    "os.listdir(f'{ROOT_DIR}/skin/validation/0.MEL')"
   ]
  },
  {
   "cell_type": "code",
   "execution_count": 37,
   "id": "0bf75d03",
   "metadata": {},
   "outputs": [
    {
     "data": {
      "text/plain": [
       "'ISIC_0032872'"
      ]
     },
     "execution_count": 37,
     "metadata": {},
     "output_type": "execute_result"
    }
   ],
   "source": [
    "img_name = 'ISIC_0032872.jpg'\n",
    "img_name[:-4]"
   ]
  },
  {
   "cell_type": "code",
   "execution_count": 38,
   "id": "22264c92",
   "metadata": {},
   "outputs": [
    {
     "data": {
      "text/plain": [
       "'male'"
      ]
     },
     "execution_count": 38,
     "metadata": {},
     "output_type": "execute_result"
    }
   ],
   "source": [
    "metadata[metadata['image_id'] == img_name[:-4]]['sex'].tolist()[0]"
   ]
  },
  {
   "cell_type": "code",
   "execution_count": 39,
   "id": "cf350304",
   "metadata": {},
   "outputs": [],
   "source": [
    "def split_data_male_female(source, validation_dir, label_dir, split_size):\n",
    "    random.seed(1234) # set the seed so we have reproducible train/valid splits.\n",
    "\n",
    "    files = []\n",
    "    for filename in os.listdir(source):\n",
    "        file = source + filename\n",
    "        if os.path.getsize(file) > 0:\n",
    "            files.append(filename)\n",
    "        else:\n",
    "            print(filename + \" is zero length, so ignoring.\")\n",
    "\n",
    "    training_length = int(len(files) * split_size)\n",
    "    validation_length = int(len(files) - training_length)\n",
    "    shuffled_set = random.sample(files, len(files))\n",
    "#     training_set = shuffled_set[0:training_length]\n",
    "    validation_set = shuffled_set[:validation_length]\n",
    "    \n",
    "    # here we send the image to different validation folder based\n",
    "    # on the gender label on the image.\n",
    "    metadata = pd.read_csv(f'{ROOT_DIR}/HAM10000_metadata.csv')\n",
    "    metadata = metadata.drop_duplicates(subset='lesion_id')    \n",
    "    for filename in validation_set:\n",
    "        matched_df = metadata[metadata['image_id'] == filename[:-4]]\n",
    "        if matched_df.shape[0] == 0:\n",
    "            raise Exception(f'{filename} not found in the metadata dataframe')\n",
    "        else:\n",
    "            gender = matched_df['sex'].tolist()[0]\n",
    "        \n",
    "        # it is possible gender == 'unknown', we only want\n",
    "        # the 'male'/'female' data.\n",
    "        if gender == 'male' or gender == 'female':\n",
    "            this_file = source + filename\n",
    "            destination = validation_dir + gender + '/' + label_dir + filename\n",
    "            copyfile(this_file, destination)"
   ]
  },
  {
   "cell_type": "code",
   "execution_count": 49,
   "id": "21e06f17",
   "metadata": {},
   "outputs": [],
   "source": [
    "def generate_male_female_val_folders():\n",
    "    '''\n",
    "    generate folders for male and female validation datasets separately. Copy necessary\n",
    "    data into each folder.\n",
    "    '''\n",
    "    source_MEL = f'{ROOT_DIR}/orig/0.MEL/'\n",
    "    source_NV = f'{ROOT_DIR}/orig/1.NV/'\n",
    "    source_BCC = f'{ROOT_DIR}/orig/2.BCC/'\n",
    "    source_AKIEC = f'{ROOT_DIR}/orig/3.AKIEC/'\n",
    "    source_BKL = f'{ROOT_DIR}/orig/4.BKL/'\n",
    "    source_DF = f'{ROOT_DIR}/orig/5.DF/'\n",
    "    source_VASC = f'{ROOT_DIR}/orig/6.VASC/'\n",
    "    \n",
    "    \n",
    "    validation_dir = f'{ROOT_DIR}/skin/validation_male_female/'\n",
    "\n",
    "    split_data_male_female(source_MEL, validation_dir, '0.MEL/', split_size)\n",
    "    split_data_male_female(source_NV, validation_dir, '1.NV/', split_size)\n",
    "    split_data_male_female(source_BCC, validation_dir, '2.BCC/', split_size)\n",
    "    split_data_male_female(source_AKIEC, validation_dir, '3.AKIEC/', split_size)\n",
    "    split_data_male_female(source_BKL, validation_dir, '4.BKL/', split_size)\n",
    "    split_data_male_female(source_DF, validation_dir, '5.DF/', split_size)\n",
    "    split_data_male_female(source_VASC, validation_dir, '6.VASC/', split_size)"
   ]
  },
  {
   "cell_type": "code",
   "execution_count": 56,
   "id": "f4300eb2",
   "metadata": {},
   "outputs": [],
   "source": [
    "createMaleFemaleFolders()\n",
    "generate_male_female_val_folders()"
   ]
  },
  {
   "cell_type": "code",
   "execution_count": 75,
   "id": "8384d930",
   "metadata": {},
   "outputs": [
    {
     "name": "stdout",
     "output_type": "stream",
     "text": [
      "for diagnosis 0.MEL/, in validation set, there are 43 female images, and 80 male images\n",
      "for diagnosis 1.NV/, in validation set, there are 558 female images, and 521 male images\n",
      "for diagnosis 2.BCC/, in validation set, there are 20 female images, and 46 male images\n",
      "for diagnosis 3.AKIEC/, in validation set, there are 12 female images, and 34 male images\n",
      "for diagnosis 4.BKL/, in validation set, there are 68 female images, and 75 male images\n",
      "for diagnosis 5.DF/, in validation set, there are 9 female images, and 6 male images\n",
      "for diagnosis 6.VASC/, in validation set, there are 8 female images, and 12 male images\n"
     ]
    }
   ],
   "source": [
    "for diagnosis in ['0.MEL/', '1.NV/', '2.BCC/', '3.AKIEC/', '4.BKL/', '5.DF/', '6.VASC/']:\n",
    "    list_female = os.listdir(f'{ROOT_DIR}/skin/validation_male_female/female/' + diagnosis)\n",
    "    list_male = os.listdir(f'{ROOT_DIR}/skin/validation_male_female/male/' + diagnosis)\n",
    "    len_female = len(list_female)\n",
    "    len_male = len(list_male)\n",
    "    print(f'for diagnosis {diagnosis}, in validation set, there are {len_female} female images, and {len_male} male images')"
   ]
  },
  {
   "cell_type": "markdown",
   "id": "2d1e6e67",
   "metadata": {},
   "source": [
    "## evaluate model on male validation data."
   ]
  },
  {
   "cell_type": "code",
   "execution_count": 78,
   "id": "61d03d90",
   "metadata": {},
   "outputs": [
    {
     "name": "stdout",
     "output_type": "stream",
     "text": [
      "performance of model on male validation data:\n",
      "              precision    recall  f1-score   support\n",
      "\n",
      "         MEL       0.97      0.97      0.97        80\n",
      "          NV       0.99      0.99      0.99       521\n",
      "         BCC       0.98      1.00      0.99        46\n",
      "       AKIEC       0.97      1.00      0.99        34\n",
      "         BKL       1.00      0.96      0.98        75\n",
      "          DF       1.00      1.00      1.00         6\n",
      "        VASC       1.00      1.00      1.00        12\n",
      "\n",
      "    accuracy                           0.99       774\n",
      "   macro avg       0.99      0.99      0.99       774\n",
      "weighted avg       0.99      0.99      0.99       774\n",
      "\n",
      "AUC of class MEL = 0.9993515850144092\n",
      "AUC of class NV = 0.9995372231873942\n",
      "AUC of class BCC = 0.999970138557095\n",
      "AUC of class AKIEC = 1.0\n",
      "AUC of class BKL = 0.9999618502622795\n",
      "AUC of class DF = 1.0\n",
      "AUC of class VASC = 1.0\n"
     ]
    },
    {
     "data": {
      "image/png": "[encoded data removed]",
      "text/plain": [
       "<Figure size 432x288 with 2 Axes>"
      ]
     },
     "metadata": {
      "needs_background": "light"
     },
     "output_type": "display_data"
    }
   ],
   "source": [
    "print('performance of model on male validation data:')\n",
    "valdir = f'{ROOT_DIR}/skin/validation_male_female/male/'\n",
    "\n",
    "val_transforms = transforms.Compose([\n",
    "    transforms.Resize((224, 280)),\n",
    "    torchvision.transforms.CenterCrop((224, 224)),\n",
    "    transforms.ToTensor(),\n",
    "    transforms.Normalize(mean=[0.485, 0.456, 0.406], std=[0.229, 0.224, 0.225])\n",
    "    ])\n",
    "\n",
    "val_dataset = datasets.ImageFolder(\n",
    "    valdir, transform=val_transforms)\n",
    "\n",
    "val_loader = torch.utils.data.DataLoader(\n",
    "    val_dataset, batch_size=64, shuffle=False,\n",
    "    pin_memory=False, drop_last=False)\n",
    "\n",
    "num_classes = 7\n",
    "\n",
    "predlist = torch.zeros(0,dtype=torch.long, device='cpu')\n",
    "lbllist = torch.zeros(0,dtype=torch.long, device='cpu')\n",
    "predlistauc = torch.zeros(0,dtype=torch.long, device='cpu')\n",
    "\n",
    "model.eval()\n",
    "\n",
    "with torch.no_grad():\n",
    "    for i, (inputs, classes) in enumerate(val_loader):        \n",
    "        inputs = inputs.to(device)\n",
    "        classes = classes.to(device)\n",
    "        outputs = model(inputs)\n",
    "        _, preds = torch.max(outputs, 1)\n",
    "\n",
    "        # Append batch prediction results\n",
    "        predlist=torch.cat([predlist,preds.view(-1).cpu()])\n",
    "        lbllist=torch.cat([lbllist,classes.view(-1).cpu()])\n",
    "        predlistauc = torch.cat([predlistauc,nn.functional.softmax(outputs, dim=1).cpu()])\n",
    "predlist = predlist.numpy()\n",
    "lbllist = lbllist.numpy()\n",
    "predlistauc = predlistauc.numpy()\n",
    "\n",
    "conf_mat=confusion_matrix(lbllist, predlist)\n",
    "\n",
    "target_names = ['MEL','NV','BCC','AKIEC','BKL','DF','VASC',]\n",
    "\n",
    "ConfusionMatrixDisplay(conf_mat, display_labels=target_names).plot(values_format=\"d\")\n",
    "\n",
    "print(classification_report(lbllist, predlist, target_names=target_names))\n",
    "\n",
    "lbllist_one_hot = nn.functional.one_hot(torch.tensor([lbllist]), num_classes=num_classes)\n",
    "every_auc = roc_auc_score(lbllist_one_hot.view([predlistauc.shape[0], predlistauc.shape[1]]), \n",
    "                                          predlistauc, multi_class='ovr', average=None)\n",
    "for i, every in enumerate(target_names):\n",
    "    print(f'AUC of class {every} = {every_auc[i]}')"
   ]
  },
  {
   "cell_type": "markdown",
   "id": "eb8a55b0",
   "metadata": {},
   "source": [
    "## evaluate model on female validation data."
   ]
  },
  {
   "cell_type": "code",
   "execution_count": 79,
   "id": "ed116624",
   "metadata": {},
   "outputs": [
    {
     "name": "stdout",
     "output_type": "stream",
     "text": [
      "performance of model on female validation data:\n",
      "              precision    recall  f1-score   support\n",
      "\n",
      "         MEL       1.00      0.95      0.98        43\n",
      "          NV       0.99      1.00      1.00       558\n",
      "         BCC       1.00      0.95      0.97        20\n",
      "       AKIEC       1.00      0.83      0.91        12\n",
      "         BKL       0.94      0.97      0.96        68\n",
      "          DF       1.00      1.00      1.00         9\n",
      "        VASC       1.00      1.00      1.00         8\n",
      "\n",
      "    accuracy                           0.99       718\n",
      "   macro avg       0.99      0.96      0.97       718\n",
      "weighted avg       0.99      0.99      0.99       718\n",
      "\n",
      "AUC of class MEL = 0.9991386735572783\n",
      "AUC of class NV = 0.9993615591397849\n",
      "AUC of class BCC = 0.9999283667621777\n",
      "AUC of class AKIEC = 0.9997639282341833\n",
      "AUC of class BKL = 0.9996380090497737\n",
      "AUC of class DF = 1.0\n",
      "AUC of class VASC = 1.0\n"
     ]
    },
    {
     "data": {
      "image/png": "[encoded data removed]",
      "text/plain": [
       "<Figure size 432x288 with 2 Axes>"
      ]
     },
     "metadata": {
      "needs_background": "light"
     },
     "output_type": "display_data"
    }
   ],
   "source": [
    "print('performance of model on female validation data:')\n",
    "valdir = f'{ROOT_DIR}/skin/validation_male_female/female/'\n",
    "\n",
    "val_transforms = transforms.Compose([\n",
    "    transforms.Resize((224, 280)),\n",
    "    torchvision.transforms.CenterCrop((224, 224)),\n",
    "    transforms.ToTensor(),\n",
    "    transforms.Normalize(mean=[0.485, 0.456, 0.406], std=[0.229, 0.224, 0.225])\n",
    "    ])\n",
    "\n",
    "val_dataset = datasets.ImageFolder(\n",
    "    valdir, transform=val_transforms)\n",
    "\n",
    "val_loader = torch.utils.data.DataLoader(\n",
    "    val_dataset, batch_size=64, shuffle=False,\n",
    "    pin_memory=False, drop_last=False)\n",
    "\n",
    "num_classes = 7\n",
    "\n",
    "predlist = torch.zeros(0,dtype=torch.long, device='cpu')\n",
    "lbllist = torch.zeros(0,dtype=torch.long, device='cpu')\n",
    "predlistauc = torch.zeros(0,dtype=torch.long, device='cpu')\n",
    "\n",
    "model.eval()\n",
    "\n",
    "with torch.no_grad():\n",
    "    for i, (inputs, classes) in enumerate(val_loader):        \n",
    "        inputs = inputs.to(device)\n",
    "        classes = classes.to(device)\n",
    "        outputs = model(inputs)\n",
    "        _, preds = torch.max(outputs, 1)\n",
    "\n",
    "        # Append batch prediction results\n",
    "        predlist=torch.cat([predlist,preds.view(-1).cpu()])\n",
    "        lbllist=torch.cat([lbllist,classes.view(-1).cpu()])\n",
    "        predlistauc = torch.cat([predlistauc,nn.functional.softmax(outputs, dim=1).cpu()])\n",
    "predlist = predlist.numpy()\n",
    "lbllist = lbllist.numpy()\n",
    "predlistauc = predlistauc.numpy()\n",
    "\n",
    "conf_mat=confusion_matrix(lbllist, predlist)\n",
    "\n",
    "target_names = ['MEL','NV','BCC','AKIEC','BKL','DF','VASC',]\n",
    "\n",
    "ConfusionMatrixDisplay(conf_mat, display_labels=target_names).plot(values_format=\"d\")\n",
    "\n",
    "print(classification_report(lbllist, predlist, target_names=target_names))\n",
    "\n",
    "lbllist_one_hot = nn.functional.one_hot(torch.tensor([lbllist]), num_classes=num_classes)\n",
    "every_auc = roc_auc_score(lbllist_one_hot.view([predlistauc.shape[0], predlistauc.shape[1]]), \n",
    "                                          predlistauc, multi_class='ovr', average=None)\n",
    "for i, every in enumerate(target_names):\n",
    "    print(f'AUC of class {every} = {every_auc[i]}')"
   ]
  },
  {
   "cell_type": "code",
   "execution_count": null,
   "id": "19559bff",
   "metadata": {},
   "outputs": [],
   "source": []
  }
 ],
 "metadata": {
  "kernelspec": {
   "display_name": "Python 3",
   "language": "python",
   "name": "python3"
  },
  "language_info": {
   "codemirror_mode": {
    "name": "ipython",
    "version": 3
   },
   "file_extension": ".py",
   "mimetype": "text/x-python",
   "name": "python",
   "nbconvert_exporter": "python",
   "pygments_lexer": "ipython3",
   "version": "3.8.12"
  }
 },
 "nbformat": 4,
 "nbformat_minor": 5
}
